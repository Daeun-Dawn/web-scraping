{
 "cells": [
  {
   "cell_type": "code",
   "execution_count": 74,
   "metadata": {},
   "outputs": [],
   "source": [
    "# import selenium\n",
    "from selenium import webdriver"
   ]
  },
  {
   "cell_type": "code",
   "execution_count": 2,
   "metadata": {},
   "outputs": [],
   "source": [
    "ch_driver = webdriver.Chrome(\"C:\\\\Program Files (x86)\\\\chromedriver_win32\\\\chromedriver.exe\")"
   ]
  },
  {
   "cell_type": "code",
   "execution_count": 5,
   "metadata": {},
   "outputs": [],
   "source": [
    "ch_driver.get(\"https://www.google.com\")"
   ]
  },
  {
   "cell_type": "code",
   "execution_count": 13,
   "metadata": {},
   "outputs": [],
   "source": [
    "# https://www.fastcampus.co.kr\n",
    "# https://www.naver.com\n",
    "# https://stackoverflow.com\n",
    "# https://www.python.org\n",
    "# https://www.github.com/kwonohdong\n",
    "ch_driver.get(\"https://www.fastcampus.co.kr\")\n",
    "ch_driver.get(\"https://www.naver.com\")\n",
    "ch_driver.get(\"https://stackoverflow.com\")\n",
    "ch_driver.get(\"https://www.python.org\")\n",
    "ch_driver.get(\"https://www.github.com/kwonohdong\")"
   ]
  },
  {
   "cell_type": "code",
   "execution_count": 25,
   "metadata": {},
   "outputs": [],
   "source": [
    "user_id = \"genius831\"\n",
    "user_pwd = \"rnjsdhehd831\""
   ]
  },
  {
   "cell_type": "code",
   "execution_count": null,
   "metadata": {},
   "outputs": [],
   "source": []
  },
  {
   "cell_type": "code",
   "execution_count": null,
   "metadata": {},
   "outputs": [],
   "source": []
  },
  {
   "cell_type": "code",
   "execution_count": null,
   "metadata": {},
   "outputs": [],
   "source": []
  },
  {
   "cell_type": "code",
   "execution_count": null,
   "metadata": {},
   "outputs": [],
   "source": []
  },
  {
   "cell_type": "code",
   "execution_count": null,
   "metadata": {},
   "outputs": [],
   "source": []
  },
  {
   "cell_type": "code",
   "execution_count": 14,
   "metadata": {},
   "outputs": [],
   "source": [
    "ch_driver.get(\"https://nid.naver.com/nidlogin.login\")"
   ]
  },
  {
   "cell_type": "code",
   "execution_count": 40,
   "metadata": {},
   "outputs": [],
   "source": [
    "id_input = ch_driver.find_element_by_id('id')\n",
    "id_input.clear()\n",
    "id_input.send_keys(user_id)\n",
    "\n",
    "pw_input = ch_driver.find_element_by_id('pw')\n",
    "pw_input.clear()\n",
    "pw_input.send_keys(user_pwd)"
   ]
  },
  {
   "cell_type": "code",
   "execution_count": 41,
   "metadata": {},
   "outputs": [],
   "source": [
    "submit_input = ch_driver.find_element_by_class_name('btn_global')\n",
    "submit_input.click()"
   ]
  },
  {
   "cell_type": "code",
   "execution_count": 47,
   "metadata": {},
   "outputs": [],
   "source": [
    "pw_input = ch_driver.find_element_by_id('pw')\n",
    "pw_input.clear()\n",
    "pw_input.send_keys(user_pwd)\n",
    "\n",
    "chptcha_input = ch_driver.find_element_by_id('chptcha')\n",
    "chptcha_input.clear()\n",
    "chptcha_input.send_keys(\"5TNP1Y\")"
   ]
  },
  {
   "cell_type": "code",
   "execution_count": 48,
   "metadata": {},
   "outputs": [],
   "source": [
    "submit_input = ch_driver.find_element_by_class_name('btn_global')\n",
    "submit_input.click()"
   ]
  },
  {
   "cell_type": "code",
   "execution_count": 83,
   "metadata": {},
   "outputs": [],
   "source": [
    "ch_driver.get(\"https://cafe.naver.com/joonggonara\")"
   ]
  },
  {
   "cell_type": "code",
   "execution_count": 84,
   "metadata": {},
   "outputs": [],
   "source": [
    "search_text = \"맥북프로\"\n",
    "search_input = ch_driver.find_element_by_id(\"topLayerQueryInput\")\n",
    "search_input.clear()\n",
    "search_input.send_keys(search_text)\n",
    "ch_driver.execute_script(\"searchBoard();\")"
   ]
  },
  {
   "cell_type": "code",
   "execution_count": 88,
   "metadata": {},
   "outputs": [
    {
     "name": "stderr",
     "output_type": "stream",
     "text": [
      "c:\\python37\\lib\\site-packages\\ipykernel_launcher.py:2: DeprecationWarning: use driver.switch_to.frame instead\n",
      "  \n"
     ]
    }
   ],
   "source": [
    "result_bbs = ch_driver.find_element_by_id(\"cafe_main\")\n",
    "ch_driver.switch_to_frame(result_bbs)"
   ]
  },
  {
   "cell_type": "code",
   "execution_count": 89,
   "metadata": {},
   "outputs": [
    {
     "data": {
      "text/plain": [
       "'2016 맥북프로 터치바 13인치 팜'"
      ]
     },
     "execution_count": 89,
     "metadata": {},
     "output_type": "execute_result"
    }
   ],
   "source": [
    "title_link = ch_driver.find_elements_by_class_name(\"article\")\n",
    "title_link[0].text"
   ]
  },
  {
   "cell_type": "code",
   "execution_count": 91,
   "metadata": {},
   "outputs": [
    {
     "name": "stdout",
     "output_type": "stream",
     "text": [
      "2016 맥북프로 터치바 13인치 팜\n",
      "https://cafe.naver.com/ArticleRead.nhn?clubid=10050146&page=1&inCafeSearch=true&searchBy=1&query=%B8%C6%BA%CF%C7%C1%B7%CE&includeAll=&exclude=&include=&exact=&searchdate=all&media=0&sortBy=date&articleid=540571826&referrerAllArticles=true\n",
      "맥북 프로 2006 late 버전 팝니다\n",
      "https://cafe.naver.com/ArticleRead.nhn?clubid=10050146&page=1&inCafeSearch=true&searchBy=1&query=%B8%C6%BA%CF%C7%C1%B7%CE&includeAll=&exclude=&include=&exact=&searchdate=all&media=0&sortBy=date&articleid=540571750&referrerAllArticles=true\n",
      "2017 13인치 맥북 프로 터치바 MPXW2KH/A 스페이스 그레이 (18년 4월 구입) 판매합니다.\n",
      "https://cafe.naver.com/ArticleRead.nhn?clubid=10050146&page=1&inCafeSearch=true&searchBy=1&query=%B8%C6%BA%CF%C7%C1%B7%CE&includeAll=&exclude=&include=&exact=&searchdate=all&media=0&sortBy=date&articleid=540570757&referrerAllArticles=true\n",
      "맥북프로 상태S급 매직마우스 USB허브 다 가져가세요\n",
      "https://cafe.naver.com/ArticleRead.nhn?clubid=10050146&page=1&inCafeSearch=true&searchBy=1&query=%B8%C6%BA%CF%C7%C1%B7%CE&includeAll=&exclude=&include=&exact=&searchdate=all&media=0&sortBy=date&articleid=540570051&referrerAllArticles=true\n",
      "2017 맥북프로 논터치바 판매합니다 (MPXU2KH/A)\n",
      "https://cafe.naver.com/ArticleRead.nhn?clubid=10050146&page=1&inCafeSearch=true&searchBy=1&query=%B8%C6%BA%CF%C7%C1%B7%CE&includeAll=&exclude=&include=&exact=&searchdate=all&media=0&sortBy=date&articleid=540568581&referrerAllArticles=true\n",
      "[공식앱] 맥북 프로 2017 13인치(CTO)터치바 스페이스그레이 급하게 팝니다.\n",
      "https://cafe.naver.com/ArticleRead.nhn?clubid=10050146&page=1&inCafeSearch=true&searchBy=1&query=%B8%C6%BA%CF%C7%C1%B7%CE&includeAll=&exclude=&include=&exact=&searchdate=all&media=0&sortBy=date&articleid=540568350&referrerAllArticles=true\n",
      "[음악작업 가성비모델]2011 Late 맥북프로 15인치 풀업글 판매합니다. (83만원)\n",
      "https://cafe.naver.com/ArticleRead.nhn?clubid=10050146&page=1&inCafeSearch=true&searchBy=1&query=%B8%C6%BA%CF%C7%C1%B7%CE&includeAll=&exclude=&include=&exact=&searchdate=all&media=0&sortBy=date&articleid=540566155&referrerAllArticles=true\n",
      "맥북프로레티나2015초13인치 중급형\n",
      "https://cafe.naver.com/ArticleRead.nhn?clubid=10050146&page=1&inCafeSearch=true&searchBy=1&query=%B8%C6%BA%CF%C7%C1%B7%CE&includeAll=&exclude=&include=&exact=&searchdate=all&media=0&sortBy=date&articleid=540564724&referrerAllArticles=true\n",
      "2014년식 15인치 맥북 프로 레티나 기본형 팝니다.(상판교체 미사용)\n",
      "https://cafe.naver.com/ArticleRead.nhn?clubid=10050146&page=1&inCafeSearch=true&searchBy=1&query=%B8%C6%BA%CF%C7%C1%B7%CE&includeAll=&exclude=&include=&exact=&searchdate=all&media=0&sortBy=date&articleid=540564259&referrerAllArticles=true\n",
      "[공식앱] 맥북프로레티나2015초 13인치 중급형\n",
      "https://cafe.naver.com/ArticleRead.nhn?clubid=10050146&page=1&inCafeSearch=true&searchBy=1&query=%B8%C6%BA%CF%C7%C1%B7%CE&includeAll=&exclude=&include=&exact=&searchdate=all&media=0&sortBy=date&articleid=540563792&referrerAllArticles=true\n",
      "mc700kh/a 맥북프로 ssd256gb 업글 쿨매매 32만원\n",
      "https://cafe.naver.com/ArticleRead.nhn?clubid=10050146&page=1&inCafeSearch=true&searchBy=1&query=%B8%C6%BA%CF%C7%C1%B7%CE&includeAll=&exclude=&include=&exact=&searchdate=all&media=0&sortBy=date&articleid=540563120&referrerAllArticles=true\n",
      "[공식앱] 맥북 프로 2017 13인치(CTO)터치바 스페이스그레이 급하게 팝니다.\n",
      "https://cafe.naver.com/ArticleRead.nhn?clubid=10050146&page=1&inCafeSearch=true&searchBy=1&query=%B8%C6%BA%CF%C7%C1%B7%CE&includeAll=&exclude=&include=&exact=&searchdate=all&media=0&sortBy=date&articleid=540560685&referrerAllArticles=true\n",
      "2016년형 맥북프로 논터치바(256SSD) 판매합니다. 지역:부산\n",
      "https://cafe.naver.com/ArticleRead.nhn?clubid=10050146&page=1&inCafeSearch=true&searchBy=1&query=%B8%C6%BA%CF%C7%C1%B7%CE&includeAll=&exclude=&include=&exact=&searchdate=all&media=0&sortBy=date&articleid=540558102&referrerAllArticles=true\n",
      "(미개봉) 맥북프로 15인치 레티나 2018 (mr942kha) 판매합니다\n",
      "https://cafe.naver.com/ArticleRead.nhn?clubid=10050146&page=1&inCafeSearch=true&searchBy=1&query=%B8%C6%BA%CF%C7%C1%B7%CE&includeAll=&exclude=&include=&exact=&searchdate=all&media=0&sortBy=date&articleid=540556936&referrerAllArticles=true\n",
      "2016 맥북프로 스그 15인치 고급형 팝니다.\n",
      "https://cafe.naver.com/ArticleRead.nhn?clubid=10050146&page=1&inCafeSearch=true&searchBy=1&query=%B8%C6%BA%CF%C7%C1%B7%CE&includeAll=&exclude=&include=&exact=&searchdate=all&media=0&sortBy=date&articleid=540556859&referrerAllArticles=true\n"
     ]
    }
   ],
   "source": [
    "for item in title_link:\n",
    "    title = item.text\n",
    "    link = item.get_attribute(\"href\")\n",
    "    print(title, link, sep='\\n')"
   ]
  },
  {
   "cell_type": "code",
   "execution_count": null,
   "metadata": {},
   "outputs": [],
   "source": []
  },
  {
   "cell_type": "code",
   "execution_count": null,
   "metadata": {},
   "outputs": [],
   "source": []
  }
 ],
 "metadata": {
  "kernelspec": {
   "display_name": "Python 3",
   "language": "python",
   "name": "python3"
  },
  "language_info": {
   "codemirror_mode": {
    "name": "ipython",
    "version": 3
   },
   "file_extension": ".py",
   "mimetype": "text/x-python",
   "name": "python",
   "nbconvert_exporter": "python",
   "pygments_lexer": "ipython3",
   "version": "3.7.1"
  }
 },
 "nbformat": 4,
 "nbformat_minor": 2
}

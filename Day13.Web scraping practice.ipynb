{
 "cells": [
  {
   "cell_type": "code",
   "execution_count": 1,
   "metadata": {},
   "outputs": [],
   "source": [
    "import requests\n",
    "from bs4 import BeautifulSoup"
   ]
  },
  {
   "cell_type": "code",
   "execution_count": 2,
   "metadata": {},
   "outputs": [
    {
     "data": {
      "text/plain": [
       "'\\n<!DOCTYPE'"
      ]
     },
     "execution_count": 2,
     "metadata": {},
     "output_type": "execute_result"
    }
   ],
   "source": [
    "url = \"https://www.theguardian.com/uk/technology\"\n",
    "response = requests.get(url)\n",
    "html = response.text\n",
    "html[:10]"
   ]
  },
  {
   "cell_type": "code",
   "execution_count": 3,
   "metadata": {},
   "outputs": [
    {
     "name": "stdout",
     "output_type": "stream",
     "text": [
      "<li class=\"headline-list__item headline-column__item headline-column--tablet__item headline-column--desktop__item tone-feature--most-popular fc-item--pillar-news\">\n",
      "<div class=\"headline-list__link\" data-link-name=\"10 | text\">\n",
      "<span class=\"most-popular__number-10\"> <span class=\"inline-number-10 inline-numbers \">\n",
      "<svg class=\"inline-number-10__svg inline-numbers__svg\" height=\"40\" width=\"54\">\n",
      "<path d=\"M0 40h21v-1l-5.4-1.6V0h-4.3L.1 5.4v1.3l5.5-1.4v32.1L0 39.1zm37 0c-9.2 0-17-6.8-17-19.8C20 6.6 28.1 0 37.3 0 46.4 0 54 6.5 54 19.9 54 33.3 46.3 40 37 40zm.1-1c4 0 5.2-6.1 5.2-18.7C42.3 7 41 1.1 37.1 1.1c-4 0-5.4 6-5.4 18.7 0 13 1.4 19.1 5.4 19.1z\" fill-rule=\"evenodd\"></path>\n",
      "</svg> </span> </span>\n",
      "<div class=\"headline-list__text\">\n",
      "<h3 class=\"fc-item__title\"><a class=\"fc-item__link\" data-link-name=\"article\" href=\"https://www.theguardian.com/technology/2018/dec/09/the-20-best-gadgets-of-2018\"> <span class=\"headline-list__body fc-item__headline\"> <span class=\"js-headline-text\">The 20 best gadgets of 2018</span></span> </a></h3>\n",
      "</div>\n",
      "</div> </li>\n"
     ]
    }
   ],
   "source": [
    "soup = BeautifulSoup(html, 'html.parser')\n",
    "\n",
    "ul = soup.find('ul', attrs={'class':'headline-list'})\n",
    "lis = ul.find_all('li')\n",
    "print(lis[9])"
   ]
  },
  {
   "cell_type": "code",
   "execution_count": 4,
   "metadata": {},
   "outputs": [
    {
     "name": "stdout",
     "output_type": "stream",
     "text": [
      "Twitter ordered to reveal user behind parody JD Wetherspoon account https://www.theguardian.com/technology/2018/dec/13/twitter-ordered-to-reveal-user-behind-parody-jd-wetherspoon-account\n"
     ]
    }
   ],
   "source": [
    "news_title = lis[0].find('a').text.strip()\n",
    "news_link = lis[0].find('a').attrs.get('href')\n",
    "print(news_title, news_link)"
   ]
  },
  {
   "cell_type": "code",
   "execution_count": 5,
   "metadata": {},
   "outputs": [
    {
     "name": "stdout",
     "output_type": "stream",
     "text": [
      "('Twitter ordered to reveal user behind parody JD Wetherspoon account', 'https://www.theguardian.com/technology/2018/dec/13/twitter-ordered-to-reveal-user-behind-parody-jd-wetherspoon-account')\n",
      "(\"'They don't care': Facebook factchecking in disarray as journalists push to cut ties\", 'https://www.theguardian.com/technology/2018/dec/13/they-dont-care-facebook-fact-checking-in-disarray-as-journalists-push-to-cut-ties')\n",
      "(\"Revealed: Google's 'two-tier' workforce training document\", 'https://www.theguardian.com/technology/2018/dec/11/google-tvc-full-time-employees-training-document')\n",
      "('Microsoft Surface Headphones review: close but no cigar', 'https://www.theguardian.com/technology/2018/dec/13/microsoft-surface-headphones-review-close-but-no-cigar')\n",
      "('Apple 12.9in iPad Pro review: bringing back the wow factor', 'https://www.theguardian.com/technology/2018/dec/12/apple-129in-ipad-pro-review-bringing-back-the-wow-factor')\n",
      "('A brief guide to everything that’s annoying about Apple', 'https://www.theguardian.com/technology/2016/apr/27/a-brief-guide-to-everything-thats-annoying-about-apple')\n",
      "(\"Why Facebook's new rule about sex is its weirdest yet\", 'https://www.theguardian.com/technology/commentisfree/2018/dec/11/why-facebooks-new-rule-about-sex-is-its-weirdest-yet')\n",
      "('Apple expects your iPhone to be replaced after three years', 'https://www.theguardian.com/technology/2016/apr/15/apple-iphone-last-three-years-mac-computer-four')\n",
      "(\"'Killer robots': AI experts call for boycott over lab at South Korea university\", 'https://www.theguardian.com/technology/2018/apr/05/killer-robots-south-korea-university-boycott-artifical-intelligence-hanwha')\n",
      "('The 20 best gadgets of 2018', 'https://www.theguardian.com/technology/2018/dec/09/the-20-best-gadgets-of-2018')\n"
     ]
    }
   ],
   "source": [
    "results = []\n",
    "\n",
    "for li in lis:\n",
    "    news_title = li.find('a').text.strip()\n",
    "    news_link = li.find('a').attrs.get('href')\n",
    "#     print(news_title, news_link)\n",
    "    results.append((news_title, news_link))\n",
    "\n",
    "print(*results, sep='\\n')"
   ]
  },
  {
   "cell_type": "code",
   "execution_count": null,
   "metadata": {},
   "outputs": [],
   "source": []
  },
  {
   "cell_type": "code",
   "execution_count": null,
   "metadata": {},
   "outputs": [],
   "source": []
  },
  {
   "cell_type": "code",
   "execution_count": null,
   "metadata": {},
   "outputs": [],
   "source": []
  }
 ],
 "metadata": {
  "kernelspec": {
   "display_name": "Python 3",
   "language": "python",
   "name": "python3"
  },
  "language_info": {
   "codemirror_mode": {
    "name": "ipython",
    "version": 3
   },
   "file_extension": ".py",
   "mimetype": "text/x-python",
   "name": "python",
   "nbconvert_exporter": "python",
   "pygments_lexer": "ipython3",
   "version": "3.7.1"
  }
 },
 "nbformat": 4,
 "nbformat_minor": 2
}

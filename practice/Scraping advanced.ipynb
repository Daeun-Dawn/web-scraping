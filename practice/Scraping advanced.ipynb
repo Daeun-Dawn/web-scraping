{
 "cells": [
  {
   "cell_type": "code",
   "execution_count": 79,
   "metadata": {},
   "outputs": [],
   "source": [
    "from selenium import webdriver\n",
    "# from time import sleep"
   ]
  },
  {
   "cell_type": "code",
   "execution_count": 7,
   "metadata": {},
   "outputs": [],
   "source": [
    "# 크롬 드라이버 설정\n",
    "ch_driver = webdriver.Chrome(\"C:\\\\Program Files (x86)\\\\chromedriver_win32\\\\chromedriver.exe\")"
   ]
  },
  {
   "cell_type": "code",
   "execution_count": 99,
   "metadata": {},
   "outputs": [],
   "source": [
    "url = \"http://www.seoul.go.kr/realmnews/in/list.do\"\n",
    "ch_driver.get(url)"
   ]
  },
  {
   "cell_type": "code",
   "execution_count": 107,
   "metadata": {},
   "outputs": [
    {
     "name": "stdout",
     "output_type": "stream",
     "text": [
      "10\n",
      "{'1 PAGE': {0: {'title': '[20650] 서울-울란바토르, 대기질 개선을 위한 공동협력을 이어가다!', 'notice_date': '2018-11-30 14:35:25 [복지]', 'description': '보건환경연구원 e뉴스레터 제47호 - 사진으로보는 연구원', 'link': 'http://news.seoul.go.kr/welfare/archives/503579'}, 1: {'title': '[20649] 천일염에서 미세플라스틱이 검출되었다는데...', 'notice_date': '2018-11-30 14:30:28 [복지]', 'description': '보건환경연구원 e뉴스레터 제47호 - 언론보도 궁금증 풀어드려요', 'link': 'http://news.seoul.go.kr/welfare/archives/503573'}, 2: {'title': '[20648] 서울시 1년간 도로분진청소로 PM-2.5 발생원 16,506 kg 제거', 'notice_date': '2018-11-30 14:19:36 [복지]', 'description': '보건환경연구원 e뉴스레터 제47호 - 보건환경 리포트', 'link': 'http://news.seoul.go.kr/welfare/archives/503567'}, 3: {'title': '[20647] 래미안 부천 어반비스타 서울시 장애인 특별공급 기관추천 대상자 공고', 'notice_date': '2018-11-30 14:04:02 [복지]', 'description': '래미안 부천 어반비스타 장애인 특별공급 기관추천 대상자 공고', 'link': 'http://news.seoul.go.kr/welfare/archives/503563'}, 4: {'title': '[20646] 캠핑장 및 치유의숲 동절기 휴장안내', 'notice_date': '2018-11-30 13:55:27 [환경]', 'description': '2018년 캠핑장 및 치유의숲이 금년 운영을 마무리하고 동절기 휴장에 들어가게 되어 안내드립니다.', 'link': 'http://news.seoul.go.kr/env/archives/500303'}, 5: {'title': '[20645] 식물원 관람 일시중단 안내', 'notice_date': '2018-11-30 13:44:42 [환경]', 'description': '관람제한장소 : 전시온실, 식물표본 전시관(12.08.까지 제한)', 'link': 'http://news.seoul.go.kr/env/archives/500296'}, 6: {'title': \"[20644] AI 발생예방을 위한 '공작마을 내부 관람 중단' 안내\", 'notice_date': '2018-11-30 13:21:30 [환경]', 'description': '공작마을 외에 다른 동물사들은 모두 내·외부 관람 가능합니다.', 'link': 'http://news.seoul.go.kr/env/archives/500289'}, 7: {'title': '[20643] 2018년 12월 주요업무 및 행사계획', 'notice_date': '2018-11-30 13:10:24 [행정]', 'description': '2018년 12월 주요업무 및 행사계획입니다.', 'link': 'http://news.seoul.go.kr/gov/archives/501226'}, 8: {'title': '[20642] 판교 더샵 포레스트 아파트 서울시 장애인 특별공급 기관추천 안내', 'notice_date': '2018-11-30 12:48:33 [복지]', 'description': '판교 더샵포레스트 기관추천 안내', 'link': 'http://news.seoul.go.kr/welfare/archives/503554'}, 9: {'title': '[20641] 서울 DMC SK뷰 아파트 서울시 장애인 특별공급 기관추천 안내', 'notice_date': '2018-11-30 12:41:14 [복지]', 'description': 'DMC SK뷰 아파트 기관추천 안내', 'link': 'http://news.seoul.go.kr/welfare/archives/503539'}}, '2 PAGE': {0: {'title': '[20650] 서울-울란바토르, 대기질 개선을 위한 공동협력을 이어가다!', 'notice_date': '2018-11-30 14:35:25 [복지]', 'description': '보건환경연구원 e뉴스레터 제47호 - 사진으로보는 연구원', 'link': 'http://news.seoul.go.kr/welfare/archives/503579'}, 1: {'title': '[20649] 천일염에서 미세플라스틱이 검출되었다는데...', 'notice_date': '2018-11-30 14:30:28 [복지]', 'description': '보건환경연구원 e뉴스레터 제47호 - 언론보도 궁금증 풀어드려요', 'link': 'http://news.seoul.go.kr/welfare/archives/503573'}, 2: {'title': '[20648] 서울시 1년간 도로분진청소로 PM-2.5 발생원 16,506 kg 제거', 'notice_date': '2018-11-30 14:19:36 [복지]', 'description': '보건환경연구원 e뉴스레터 제47호 - 보건환경 리포트', 'link': 'http://news.seoul.go.kr/welfare/archives/503567'}, 3: {'title': '[20647] 래미안 부천 어반비스타 서울시 장애인 특별공급 기관추천 대상자 공고', 'notice_date': '2018-11-30 14:04:02 [복지]', 'description': '래미안 부천 어반비스타 장애인 특별공급 기관추천 대상자 공고', 'link': 'http://news.seoul.go.kr/welfare/archives/503563'}, 4: {'title': '[20646] 캠핑장 및 치유의숲 동절기 휴장안내', 'notice_date': '2018-11-30 13:55:27 [환경]', 'description': '2018년 캠핑장 및 치유의숲이 금년 운영을 마무리하고 동절기 휴장에 들어가게 되어 안내드립니다.', 'link': 'http://news.seoul.go.kr/env/archives/500303'}, 5: {'title': '[20645] 식물원 관람 일시중단 안내', 'notice_date': '2018-11-30 13:44:42 [환경]', 'description': '관람제한장소 : 전시온실, 식물표본 전시관(12.08.까지 제한)', 'link': 'http://news.seoul.go.kr/env/archives/500296'}, 6: {'title': \"[20644] AI 발생예방을 위한 '공작마을 내부 관람 중단' 안내\", 'notice_date': '2018-11-30 13:21:30 [환경]', 'description': '공작마을 외에 다른 동물사들은 모두 내·외부 관람 가능합니다.', 'link': 'http://news.seoul.go.kr/env/archives/500289'}, 7: {'title': '[20643] 2018년 12월 주요업무 및 행사계획', 'notice_date': '2018-11-30 13:10:24 [행정]', 'description': '2018년 12월 주요업무 및 행사계획입니다.', 'link': 'http://news.seoul.go.kr/gov/archives/501226'}, 8: {'title': '[20642] 판교 더샵 포레스트 아파트 서울시 장애인 특별공급 기관추천 안내', 'notice_date': '2018-11-30 12:48:33 [복지]', 'description': '판교 더샵포레스트 기관추천 안내', 'link': 'http://news.seoul.go.kr/welfare/archives/503554'}, 9: {'title': '[20641] 서울 DMC SK뷰 아파트 서울시 장애인 특별공급 기관추천 안내', 'notice_date': '2018-11-30 12:41:14 [복지]', 'description': 'DMC SK뷰 아파트 기관추천 안내', 'link': 'http://news.seoul.go.kr/welfare/archives/503539'}}, '3 PAGE': {0: {'title': '[20650] 서울-울란바토르, 대기질 개선을 위한 공동협력을 이어가다!', 'notice_date': '2018-11-30 14:35:25 [복지]', 'description': '보건환경연구원 e뉴스레터 제47호 - 사진으로보는 연구원', 'link': 'http://news.seoul.go.kr/welfare/archives/503579'}, 1: {'title': '[20649] 천일염에서 미세플라스틱이 검출되었다는데...', 'notice_date': '2018-11-30 14:30:28 [복지]', 'description': '보건환경연구원 e뉴스레터 제47호 - 언론보도 궁금증 풀어드려요', 'link': 'http://news.seoul.go.kr/welfare/archives/503573'}, 2: {'title': '[20648] 서울시 1년간 도로분진청소로 PM-2.5 발생원 16,506 kg 제거', 'notice_date': '2018-11-30 14:19:36 [복지]', 'description': '보건환경연구원 e뉴스레터 제47호 - 보건환경 리포트', 'link': 'http://news.seoul.go.kr/welfare/archives/503567'}, 3: {'title': '[20647] 래미안 부천 어반비스타 서울시 장애인 특별공급 기관추천 대상자 공고', 'notice_date': '2018-11-30 14:04:02 [복지]', 'description': '래미안 부천 어반비스타 장애인 특별공급 기관추천 대상자 공고', 'link': 'http://news.seoul.go.kr/welfare/archives/503563'}, 4: {'title': '[20646] 캠핑장 및 치유의숲 동절기 휴장안내', 'notice_date': '2018-11-30 13:55:27 [환경]', 'description': '2018년 캠핑장 및 치유의숲이 금년 운영을 마무리하고 동절기 휴장에 들어가게 되어 안내드립니다.', 'link': 'http://news.seoul.go.kr/env/archives/500303'}, 5: {'title': '[20645] 식물원 관람 일시중단 안내', 'notice_date': '2018-11-30 13:44:42 [환경]', 'description': '관람제한장소 : 전시온실, 식물표본 전시관(12.08.까지 제한)', 'link': 'http://news.seoul.go.kr/env/archives/500296'}, 6: {'title': \"[20644] AI 발생예방을 위한 '공작마을 내부 관람 중단' 안내\", 'notice_date': '2018-11-30 13:21:30 [환경]', 'description': '공작마을 외에 다른 동물사들은 모두 내·외부 관람 가능합니다.', 'link': 'http://news.seoul.go.kr/env/archives/500289'}, 7: {'title': '[20643] 2018년 12월 주요업무 및 행사계획', 'notice_date': '2018-11-30 13:10:24 [행정]', 'description': '2018년 12월 주요업무 및 행사계획입니다.', 'link': 'http://news.seoul.go.kr/gov/archives/501226'}, 8: {'title': '[20642] 판교 더샵 포레스트 아파트 서울시 장애인 특별공급 기관추천 안내', 'notice_date': '2018-11-30 12:48:33 [복지]', 'description': '판교 더샵포레스트 기관추천 안내', 'link': 'http://news.seoul.go.kr/welfare/archives/503554'}, 9: {'title': '[20641] 서울 DMC SK뷰 아파트 서울시 장애인 특별공급 기관추천 안내', 'notice_date': '2018-11-30 12:41:14 [복지]', 'description': 'DMC SK뷰 아파트 기관추천 안내', 'link': 'http://news.seoul.go.kr/welfare/archives/503539'}}, '4 PAGE': {0: {'title': '[20650] 서울-울란바토르, 대기질 개선을 위한 공동협력을 이어가다!', 'notice_date': '2018-11-30 14:35:25 [복지]', 'description': '보건환경연구원 e뉴스레터 제47호 - 사진으로보는 연구원', 'link': 'http://news.seoul.go.kr/welfare/archives/503579'}, 1: {'title': '[20649] 천일염에서 미세플라스틱이 검출되었다는데...', 'notice_date': '2018-11-30 14:30:28 [복지]', 'description': '보건환경연구원 e뉴스레터 제47호 - 언론보도 궁금증 풀어드려요', 'link': 'http://news.seoul.go.kr/welfare/archives/503573'}, 2: {'title': '[20648] 서울시 1년간 도로분진청소로 PM-2.5 발생원 16,506 kg 제거', 'notice_date': '2018-11-30 14:19:36 [복지]', 'description': '보건환경연구원 e뉴스레터 제47호 - 보건환경 리포트', 'link': 'http://news.seoul.go.kr/welfare/archives/503567'}, 3: {'title': '[20647] 래미안 부천 어반비스타 서울시 장애인 특별공급 기관추천 대상자 공고', 'notice_date': '2018-11-30 14:04:02 [복지]', 'description': '래미안 부천 어반비스타 장애인 특별공급 기관추천 대상자 공고', 'link': 'http://news.seoul.go.kr/welfare/archives/503563'}, 4: {'title': '[20646] 캠핑장 및 치유의숲 동절기 휴장안내', 'notice_date': '2018-11-30 13:55:27 [환경]', 'description': '2018년 캠핑장 및 치유의숲이 금년 운영을 마무리하고 동절기 휴장에 들어가게 되어 안내드립니다.', 'link': 'http://news.seoul.go.kr/env/archives/500303'}, 5: {'title': '[20645] 식물원 관람 일시중단 안내', 'notice_date': '2018-11-30 13:44:42 [환경]', 'description': '관람제한장소 : 전시온실, 식물표본 전시관(12.08.까지 제한)', 'link': 'http://news.seoul.go.kr/env/archives/500296'}, 6: {'title': \"[20644] AI 발생예방을 위한 '공작마을 내부 관람 중단' 안내\", 'notice_date': '2018-11-30 13:21:30 [환경]', 'description': '공작마을 외에 다른 동물사들은 모두 내·외부 관람 가능합니다.', 'link': 'http://news.seoul.go.kr/env/archives/500289'}, 7: {'title': '[20643] 2018년 12월 주요업무 및 행사계획', 'notice_date': '2018-11-30 13:10:24 [행정]', 'description': '2018년 12월 주요업무 및 행사계획입니다.', 'link': 'http://news.seoul.go.kr/gov/archives/501226'}, 8: {'title': '[20642] 판교 더샵 포레스트 아파트 서울시 장애인 특별공급 기관추천 안내', 'notice_date': '2018-11-30 12:48:33 [복지]', 'description': '판교 더샵포레스트 기관추천 안내', 'link': 'http://news.seoul.go.kr/welfare/archives/503554'}, 9: {'title': '[20641] 서울 DMC SK뷰 아파트 서울시 장애인 특별공급 기관추천 안내', 'notice_date': '2018-11-30 12:41:14 [복지]', 'description': 'DMC SK뷰 아파트 기관추천 안내', 'link': 'http://news.seoul.go.kr/welfare/archives/503539'}}, '5 PAGE': {0: {'title': '[20650] 서울-울란바토르, 대기질 개선을 위한 공동협력을 이어가다!', 'notice_date': '2018-11-30 14:35:25 [복지]', 'description': '보건환경연구원 e뉴스레터 제47호 - 사진으로보는 연구원', 'link': 'http://news.seoul.go.kr/welfare/archives/503579'}, 1: {'title': '[20649] 천일염에서 미세플라스틱이 검출되었다는데...', 'notice_date': '2018-11-30 14:30:28 [복지]', 'description': '보건환경연구원 e뉴스레터 제47호 - 언론보도 궁금증 풀어드려요', 'link': 'http://news.seoul.go.kr/welfare/archives/503573'}, 2: {'title': '[20648] 서울시 1년간 도로분진청소로 PM-2.5 발생원 16,506 kg 제거', 'notice_date': '2018-11-30 14:19:36 [복지]', 'description': '보건환경연구원 e뉴스레터 제47호 - 보건환경 리포트', 'link': 'http://news.seoul.go.kr/welfare/archives/503567'}, 3: {'title': '[20647] 래미안 부천 어반비스타 서울시 장애인 특별공급 기관추천 대상자 공고', 'notice_date': '2018-11-30 14:04:02 [복지]', 'description': '래미안 부천 어반비스타 장애인 특별공급 기관추천 대상자 공고', 'link': 'http://news.seoul.go.kr/welfare/archives/503563'}, 4: {'title': '[20646] 캠핑장 및 치유의숲 동절기 휴장안내', 'notice_date': '2018-11-30 13:55:27 [환경]', 'description': '2018년 캠핑장 및 치유의숲이 금년 운영을 마무리하고 동절기 휴장에 들어가게 되어 안내드립니다.', 'link': 'http://news.seoul.go.kr/env/archives/500303'}, 5: {'title': '[20645] 식물원 관람 일시중단 안내', 'notice_date': '2018-11-30 13:44:42 [환경]', 'description': '관람제한장소 : 전시온실, 식물표본 전시관(12.08.까지 제한)', 'link': 'http://news.seoul.go.kr/env/archives/500296'}, 6: {'title': \"[20644] AI 발생예방을 위한 '공작마을 내부 관람 중단' 안내\", 'notice_date': '2018-11-30 13:21:30 [환경]', 'description': '공작마을 외에 다른 동물사들은 모두 내·외부 관람 가능합니다.', 'link': 'http://news.seoul.go.kr/env/archives/500289'}, 7: {'title': '[20643] 2018년 12월 주요업무 및 행사계획', 'notice_date': '2018-11-30 13:10:24 [행정]', 'description': '2018년 12월 주요업무 및 행사계획입니다.', 'link': 'http://news.seoul.go.kr/gov/archives/501226'}, 8: {'title': '[20642] 판교 더샵 포레스트 아파트 서울시 장애인 특별공급 기관추천 안내', 'notice_date': '2018-11-30 12:48:33 [복지]', 'description': '판교 더샵포레스트 기관추천 안내', 'link': 'http://news.seoul.go.kr/welfare/archives/503554'}, 9: {'title': '[20641] 서울 DMC SK뷰 아파트 서울시 장애인 특별공급 기관추천 안내', 'notice_date': '2018-11-30 12:41:14 [복지]', 'description': 'DMC SK뷰 아파트 기관추천 안내', 'link': 'http://news.seoul.go.kr/welfare/archives/503539'}}, '6 PAGE': {0: {'title': '[20650] 서울-울란바토르, 대기질 개선을 위한 공동협력을 이어가다!', 'notice_date': '2018-11-30 14:35:25 [복지]', 'description': '보건환경연구원 e뉴스레터 제47호 - 사진으로보는 연구원', 'link': 'http://news.seoul.go.kr/welfare/archives/503579'}, 1: {'title': '[20649] 천일염에서 미세플라스틱이 검출되었다는데...', 'notice_date': '2018-11-30 14:30:28 [복지]', 'description': '보건환경연구원 e뉴스레터 제47호 - 언론보도 궁금증 풀어드려요', 'link': 'http://news.seoul.go.kr/welfare/archives/503573'}, 2: {'title': '[20648] 서울시 1년간 도로분진청소로 PM-2.5 발생원 16,506 kg 제거', 'notice_date': '2018-11-30 14:19:36 [복지]', 'description': '보건환경연구원 e뉴스레터 제47호 - 보건환경 리포트', 'link': 'http://news.seoul.go.kr/welfare/archives/503567'}, 3: {'title': '[20647] 래미안 부천 어반비스타 서울시 장애인 특별공급 기관추천 대상자 공고', 'notice_date': '2018-11-30 14:04:02 [복지]', 'description': '래미안 부천 어반비스타 장애인 특별공급 기관추천 대상자 공고', 'link': 'http://news.seoul.go.kr/welfare/archives/503563'}, 4: {'title': '[20646] 캠핑장 및 치유의숲 동절기 휴장안내', 'notice_date': '2018-11-30 13:55:27 [환경]', 'description': '2018년 캠핑장 및 치유의숲이 금년 운영을 마무리하고 동절기 휴장에 들어가게 되어 안내드립니다.', 'link': 'http://news.seoul.go.kr/env/archives/500303'}, 5: {'title': '[20645] 식물원 관람 일시중단 안내', 'notice_date': '2018-11-30 13:44:42 [환경]', 'description': '관람제한장소 : 전시온실, 식물표본 전시관(12.08.까지 제한)', 'link': 'http://news.seoul.go.kr/env/archives/500296'}, 6: {'title': \"[20644] AI 발생예방을 위한 '공작마을 내부 관람 중단' 안내\", 'notice_date': '2018-11-30 13:21:30 [환경]', 'description': '공작마을 외에 다른 동물사들은 모두 내·외부 관람 가능합니다.', 'link': 'http://news.seoul.go.kr/env/archives/500289'}, 7: {'title': '[20643] 2018년 12월 주요업무 및 행사계획', 'notice_date': '2018-11-30 13:10:24 [행정]', 'description': '2018년 12월 주요업무 및 행사계획입니다.', 'link': 'http://news.seoul.go.kr/gov/archives/501226'}, 8: {'title': '[20642] 판교 더샵 포레스트 아파트 서울시 장애인 특별공급 기관추천 안내', 'notice_date': '2018-11-30 12:48:33 [복지]', 'description': '판교 더샵포레스트 기관추천 안내', 'link': 'http://news.seoul.go.kr/welfare/archives/503554'}, 9: {'title': '[20641] 서울 DMC SK뷰 아파트 서울시 장애인 특별공급 기관추천 안내', 'notice_date': '2018-11-30 12:41:14 [복지]', 'description': 'DMC SK뷰 아파트 기관추천 안내', 'link': 'http://news.seoul.go.kr/welfare/archives/503539'}}, '7 PAGE': {0: {'title': '[20650] 서울-울란바토르, 대기질 개선을 위한 공동협력을 이어가다!', 'notice_date': '2018-11-30 14:35:25 [복지]', 'description': '보건환경연구원 e뉴스레터 제47호 - 사진으로보는 연구원', 'link': 'http://news.seoul.go.kr/welfare/archives/503579'}, 1: {'title': '[20649] 천일염에서 미세플라스틱이 검출되었다는데...', 'notice_date': '2018-11-30 14:30:28 [복지]', 'description': '보건환경연구원 e뉴스레터 제47호 - 언론보도 궁금증 풀어드려요', 'link': 'http://news.seoul.go.kr/welfare/archives/503573'}, 2: {'title': '[20648] 서울시 1년간 도로분진청소로 PM-2.5 발생원 16,506 kg 제거', 'notice_date': '2018-11-30 14:19:36 [복지]', 'description': '보건환경연구원 e뉴스레터 제47호 - 보건환경 리포트', 'link': 'http://news.seoul.go.kr/welfare/archives/503567'}, 3: {'title': '[20647] 래미안 부천 어반비스타 서울시 장애인 특별공급 기관추천 대상자 공고', 'notice_date': '2018-11-30 14:04:02 [복지]', 'description': '래미안 부천 어반비스타 장애인 특별공급 기관추천 대상자 공고', 'link': 'http://news.seoul.go.kr/welfare/archives/503563'}, 4: {'title': '[20646] 캠핑장 및 치유의숲 동절기 휴장안내', 'notice_date': '2018-11-30 13:55:27 [환경]', 'description': '2018년 캠핑장 및 치유의숲이 금년 운영을 마무리하고 동절기 휴장에 들어가게 되어 안내드립니다.', 'link': 'http://news.seoul.go.kr/env/archives/500303'}, 5: {'title': '[20645] 식물원 관람 일시중단 안내', 'notice_date': '2018-11-30 13:44:42 [환경]', 'description': '관람제한장소 : 전시온실, 식물표본 전시관(12.08.까지 제한)', 'link': 'http://news.seoul.go.kr/env/archives/500296'}, 6: {'title': \"[20644] AI 발생예방을 위한 '공작마을 내부 관람 중단' 안내\", 'notice_date': '2018-11-30 13:21:30 [환경]', 'description': '공작마을 외에 다른 동물사들은 모두 내·외부 관람 가능합니다.', 'link': 'http://news.seoul.go.kr/env/archives/500289'}, 7: {'title': '[20643] 2018년 12월 주요업무 및 행사계획', 'notice_date': '2018-11-30 13:10:24 [행정]', 'description': '2018년 12월 주요업무 및 행사계획입니다.', 'link': 'http://news.seoul.go.kr/gov/archives/501226'}, 8: {'title': '[20642] 판교 더샵 포레스트 아파트 서울시 장애인 특별공급 기관추천 안내', 'notice_date': '2018-11-30 12:48:33 [복지]', 'description': '판교 더샵포레스트 기관추천 안내', 'link': 'http://news.seoul.go.kr/welfare/archives/503554'}, 9: {'title': '[20641] 서울 DMC SK뷰 아파트 서울시 장애인 특별공급 기관추천 안내', 'notice_date': '2018-11-30 12:41:14 [복지]', 'description': 'DMC SK뷰 아파트 기관추천 안내', 'link': 'http://news.seoul.go.kr/welfare/archives/503539'}}, '8 PAGE': {0: {'title': '[20650] 서울-울란바토르, 대기질 개선을 위한 공동협력을 이어가다!', 'notice_date': '2018-11-30 14:35:25 [복지]', 'description': '보건환경연구원 e뉴스레터 제47호 - 사진으로보는 연구원', 'link': 'http://news.seoul.go.kr/welfare/archives/503579'}, 1: {'title': '[20649] 천일염에서 미세플라스틱이 검출되었다는데...', 'notice_date': '2018-11-30 14:30:28 [복지]', 'description': '보건환경연구원 e뉴스레터 제47호 - 언론보도 궁금증 풀어드려요', 'link': 'http://news.seoul.go.kr/welfare/archives/503573'}, 2: {'title': '[20648] 서울시 1년간 도로분진청소로 PM-2.5 발생원 16,506 kg 제거', 'notice_date': '2018-11-30 14:19:36 [복지]', 'description': '보건환경연구원 e뉴스레터 제47호 - 보건환경 리포트', 'link': 'http://news.seoul.go.kr/welfare/archives/503567'}, 3: {'title': '[20647] 래미안 부천 어반비스타 서울시 장애인 특별공급 기관추천 대상자 공고', 'notice_date': '2018-11-30 14:04:02 [복지]', 'description': '래미안 부천 어반비스타 장애인 특별공급 기관추천 대상자 공고', 'link': 'http://news.seoul.go.kr/welfare/archives/503563'}, 4: {'title': '[20646] 캠핑장 및 치유의숲 동절기 휴장안내', 'notice_date': '2018-11-30 13:55:27 [환경]', 'description': '2018년 캠핑장 및 치유의숲이 금년 운영을 마무리하고 동절기 휴장에 들어가게 되어 안내드립니다.', 'link': 'http://news.seoul.go.kr/env/archives/500303'}, 5: {'title': '[20645] 식물원 관람 일시중단 안내', 'notice_date': '2018-11-30 13:44:42 [환경]', 'description': '관람제한장소 : 전시온실, 식물표본 전시관(12.08.까지 제한)', 'link': 'http://news.seoul.go.kr/env/archives/500296'}, 6: {'title': \"[20644] AI 발생예방을 위한 '공작마을 내부 관람 중단' 안내\", 'notice_date': '2018-11-30 13:21:30 [환경]', 'description': '공작마을 외에 다른 동물사들은 모두 내·외부 관람 가능합니다.', 'link': 'http://news.seoul.go.kr/env/archives/500289'}, 7: {'title': '[20643] 2018년 12월 주요업무 및 행사계획', 'notice_date': '2018-11-30 13:10:24 [행정]', 'description': '2018년 12월 주요업무 및 행사계획입니다.', 'link': 'http://news.seoul.go.kr/gov/archives/501226'}, 8: {'title': '[20642] 판교 더샵 포레스트 아파트 서울시 장애인 특별공급 기관추천 안내', 'notice_date': '2018-11-30 12:48:33 [복지]', 'description': '판교 더샵포레스트 기관추천 안내', 'link': 'http://news.seoul.go.kr/welfare/archives/503554'}, 9: {'title': '[20641] 서울 DMC SK뷰 아파트 서울시 장애인 특별공급 기관추천 안내', 'notice_date': '2018-11-30 12:41:14 [복지]', 'description': 'DMC SK뷰 아파트 기관추천 안내', 'link': 'http://news.seoul.go.kr/welfare/archives/503539'}}, '9 PAGE': {0: {'title': '[20650] 서울-울란바토르, 대기질 개선을 위한 공동협력을 이어가다!', 'notice_date': '2018-11-30 14:35:25 [복지]', 'description': '보건환경연구원 e뉴스레터 제47호 - 사진으로보는 연구원', 'link': 'http://news.seoul.go.kr/welfare/archives/503579'}, 1: {'title': '[20649] 천일염에서 미세플라스틱이 검출되었다는데...', 'notice_date': '2018-11-30 14:30:28 [복지]', 'description': '보건환경연구원 e뉴스레터 제47호 - 언론보도 궁금증 풀어드려요', 'link': 'http://news.seoul.go.kr/welfare/archives/503573'}, 2: {'title': '[20648] 서울시 1년간 도로분진청소로 PM-2.5 발생원 16,506 kg 제거', 'notice_date': '2018-11-30 14:19:36 [복지]', 'description': '보건환경연구원 e뉴스레터 제47호 - 보건환경 리포트', 'link': 'http://news.seoul.go.kr/welfare/archives/503567'}, 3: {'title': '[20647] 래미안 부천 어반비스타 서울시 장애인 특별공급 기관추천 대상자 공고', 'notice_date': '2018-11-30 14:04:02 [복지]', 'description': '래미안 부천 어반비스타 장애인 특별공급 기관추천 대상자 공고', 'link': 'http://news.seoul.go.kr/welfare/archives/503563'}, 4: {'title': '[20646] 캠핑장 및 치유의숲 동절기 휴장안내', 'notice_date': '2018-11-30 13:55:27 [환경]', 'description': '2018년 캠핑장 및 치유의숲이 금년 운영을 마무리하고 동절기 휴장에 들어가게 되어 안내드립니다.', 'link': 'http://news.seoul.go.kr/env/archives/500303'}, 5: {'title': '[20645] 식물원 관람 일시중단 안내', 'notice_date': '2018-11-30 13:44:42 [환경]', 'description': '관람제한장소 : 전시온실, 식물표본 전시관(12.08.까지 제한)', 'link': 'http://news.seoul.go.kr/env/archives/500296'}, 6: {'title': \"[20644] AI 발생예방을 위한 '공작마을 내부 관람 중단' 안내\", 'notice_date': '2018-11-30 13:21:30 [환경]', 'description': '공작마을 외에 다른 동물사들은 모두 내·외부 관람 가능합니다.', 'link': 'http://news.seoul.go.kr/env/archives/500289'}, 7: {'title': '[20643] 2018년 12월 주요업무 및 행사계획', 'notice_date': '2018-11-30 13:10:24 [행정]', 'description': '2018년 12월 주요업무 및 행사계획입니다.', 'link': 'http://news.seoul.go.kr/gov/archives/501226'}, 8: {'title': '[20642] 판교 더샵 포레스트 아파트 서울시 장애인 특별공급 기관추천 안내', 'notice_date': '2018-11-30 12:48:33 [복지]', 'description': '판교 더샵포레스트 기관추천 안내', 'link': 'http://news.seoul.go.kr/welfare/archives/503554'}, 9: {'title': '[20641] 서울 DMC SK뷰 아파트 서울시 장애인 특별공급 기관추천 안내', 'notice_date': '2018-11-30 12:41:14 [복지]', 'description': 'DMC SK뷰 아파트 기관추천 안내', 'link': 'http://news.seoul.go.kr/welfare/archives/503539'}}, '10 PAGE': {0: {'title': '[20650] 서울-울란바토르, 대기질 개선을 위한 공동협력을 이어가다!', 'notice_date': '2018-11-30 14:35:25 [복지]', 'description': '보건환경연구원 e뉴스레터 제47호 - 사진으로보는 연구원', 'link': 'http://news.seoul.go.kr/welfare/archives/503579'}, 1: {'title': '[20649] 천일염에서 미세플라스틱이 검출되었다는데...', 'notice_date': '2018-11-30 14:30:28 [복지]', 'description': '보건환경연구원 e뉴스레터 제47호 - 언론보도 궁금증 풀어드려요', 'link': 'http://news.seoul.go.kr/welfare/archives/503573'}, 2: {'title': '[20648] 서울시 1년간 도로분진청소로 PM-2.5 발생원 16,506 kg 제거', 'notice_date': '2018-11-30 14:19:36 [복지]', 'description': '보건환경연구원 e뉴스레터 제47호 - 보건환경 리포트', 'link': 'http://news.seoul.go.kr/welfare/archives/503567'}, 3: {'title': '[20647] 래미안 부천 어반비스타 서울시 장애인 특별공급 기관추천 대상자 공고', 'notice_date': '2018-11-30 14:04:02 [복지]', 'description': '래미안 부천 어반비스타 장애인 특별공급 기관추천 대상자 공고', 'link': 'http://news.seoul.go.kr/welfare/archives/503563'}, 4: {'title': '[20646] 캠핑장 및 치유의숲 동절기 휴장안내', 'notice_date': '2018-11-30 13:55:27 [환경]', 'description': '2018년 캠핑장 및 치유의숲이 금년 운영을 마무리하고 동절기 휴장에 들어가게 되어 안내드립니다.', 'link': 'http://news.seoul.go.kr/env/archives/500303'}, 5: {'title': '[20645] 식물원 관람 일시중단 안내', 'notice_date': '2018-11-30 13:44:42 [환경]', 'description': '관람제한장소 : 전시온실, 식물표본 전시관(12.08.까지 제한)', 'link': 'http://news.seoul.go.kr/env/archives/500296'}, 6: {'title': \"[20644] AI 발생예방을 위한 '공작마을 내부 관람 중단' 안내\", 'notice_date': '2018-11-30 13:21:30 [환경]', 'description': '공작마을 외에 다른 동물사들은 모두 내·외부 관람 가능합니다.', 'link': 'http://news.seoul.go.kr/env/archives/500289'}, 7: {'title': '[20643] 2018년 12월 주요업무 및 행사계획', 'notice_date': '2018-11-30 13:10:24 [행정]', 'description': '2018년 12월 주요업무 및 행사계획입니다.', 'link': 'http://news.seoul.go.kr/gov/archives/501226'}, 8: {'title': '[20642] 판교 더샵 포레스트 아파트 서울시 장애인 특별공급 기관추천 안내', 'notice_date': '2018-11-30 12:48:33 [복지]', 'description': '판교 더샵포레스트 기관추천 안내', 'link': 'http://news.seoul.go.kr/welfare/archives/503554'}, 9: {'title': '[20641] 서울 DMC SK뷰 아파트 서울시 장애인 특별공급 기관추천 안내', 'notice_date': '2018-11-30 12:41:14 [복지]', 'description': 'DMC SK뷰 아파트 기관추천 안내', 'link': 'http://news.seoul.go.kr/welfare/archives/503539'}}}\n"
     ]
    }
   ],
   "source": [
    "result_dict = {}\n",
    "news_list_dict = {}\n",
    "curr_page_num = 1\n",
    "\n",
    "while curr_page_num < 11:    \n",
    "    # 페이지별 항목의 정보 추출\n",
    "    news_list = ch_driver.find_elements_by_class_name(\"item\")\n",
    "    \n",
    "    for i, item in enumerate(news_list):\n",
    "        news_info = item.text.strip().split('\\n')\n",
    "\n",
    "        title = news_info[0]\n",
    "        notice_date = news_info[1]\n",
    "        description = news_info[2]\n",
    "        link = ch_driver.find_element_by_xpath('//*[@id=\"content\"]/div[2]/div/div[1]/div[' + str(i + 1) + ']/a').get_attribute('href')\n",
    "    #     print(title, notice_date, description, link, sep='\\n')\n",
    "\n",
    "        news_list_dict[i] = dict((name, eval(name)) for name in [\"title\", \"notice_date\", \"description\", \"link\"])\n",
    "    \n",
    "    # 페이지 단위로 10개 항목을 담아주기\n",
    "    result_dict[str(curr_page_num) + ' PAGE'] = news_list_dict\n",
    "    curr_page_num += 1\n",
    "\n",
    "    # 다음 페이지로 이동\n",
    "    ch_driver.execute_script('fnPagingMove(' + str(curr_page_num) + ');')        \n",
    "#     sleep(5)\n",
    "\n",
    "print(len(result_dict))\n",
    "print(result_dict)"
   ]
  },
  {
   "cell_type": "code",
   "execution_count": null,
   "metadata": {},
   "outputs": [],
   "source": []
  },
  {
   "cell_type": "code",
   "execution_count": null,
   "metadata": {},
   "outputs": [],
   "source": []
  },
  {
   "cell_type": "code",
   "execution_count": null,
   "metadata": {},
   "outputs": [],
   "source": []
  },
  {
   "cell_type": "code",
   "execution_count": null,
   "metadata": {},
   "outputs": [],
   "source": []
  },
  {
   "cell_type": "code",
   "execution_count": null,
   "metadata": {},
   "outputs": [],
   "source": []
  },
  {
   "cell_type": "code",
   "execution_count": null,
   "metadata": {},
   "outputs": [],
   "source": []
  },
  {
   "cell_type": "code",
   "execution_count": null,
   "metadata": {},
   "outputs": [],
   "source": []
  },
  {
   "cell_type": "code",
   "execution_count": null,
   "metadata": {},
   "outputs": [],
   "source": []
  }
 ],
 "metadata": {
  "kernelspec": {
   "display_name": "Python 3",
   "language": "python",
   "name": "python3"
  },
  "language_info": {
   "codemirror_mode": {
    "name": "ipython",
    "version": 3
   },
   "file_extension": ".py",
   "mimetype": "text/x-python",
   "name": "python",
   "nbconvert_exporter": "python",
   "pygments_lexer": "ipython3",
   "version": "3.7.1"
  }
 },
 "nbformat": 4,
 "nbformat_minor": 2
}

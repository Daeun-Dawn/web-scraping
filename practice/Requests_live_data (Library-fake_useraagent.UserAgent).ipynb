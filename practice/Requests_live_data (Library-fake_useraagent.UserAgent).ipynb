{
 "cells": [
  {
   "cell_type": "code",
   "execution_count": 1,
   "metadata": {},
   "outputs": [],
   "source": [
    "import requests\n",
    "import json\n",
    "from bs4 import BeautifulSoup\n",
    "from fake_useragent import UserAgent\n",
    "from time import sleep"
   ]
  },
  {
   "cell_type": "code",
   "execution_count": 2,
   "metadata": {},
   "outputs": [
    {
     "data": {
      "text/plain": [
       "<Response [200]>"
      ]
     },
     "execution_count": 2,
     "metadata": {},
     "output_type": "execute_result"
    }
   ],
   "source": [
    "url = \"https://data-live.flightradar24.com/zones/fcgi/feed.js?bounds=84.65,69.06,-157.63,-62.19&faa=1&mlat=1&flarm=1&adsb=1&gnd=1&air=1&vehicles=1&estimated=1&maxage=14400&gliders=1&stats=0\"\n",
    "\n",
    "ua = UserAgent()\n",
    "headers = {'User-Agent': str(ua.random)}\n",
    "\n",
    "response = requests.get(url, headers=headers)\n",
    "response"
   ]
  },
  {
   "cell_type": "code",
   "execution_count": 3,
   "metadata": {},
   "outputs": [
    {
     "data": {
      "text/plain": [
       "dict_items([('full_count', 12379), ('version', 4), ('1ef1ccdd', ['780F16', 69.4095, -142.7954, 91, 33000, 500, '7222', 'T-F5M', 'B77W', 'B-7185', 1545447652, 'CAN', 'JFK', 'CZ399', 0, 0, 'CSN399', 0, 'CSN']), ('1ef23edf', ['780D9D', 79.3738, -134.2174, 290, 30000, 470, '0000', 'F-EST', 'B77W', 'B-2021', 1545447648, 'JFK', 'PVG', 'MU588', 0, 0, 'CES588', 0, 'CES']), ('1ef2ee2c', ['A8304F', 70.4124, -149.8837, 291, 18400, 360, '0000', 'T-F5M', 'B737', 'N627AS', 1545447652, 'SCC', 'BRW', 'AS7015', 0, 3200, 'ASA7015', 0, 'ASA'])])"
      ]
     },
     "execution_count": 3,
     "metadata": {},
     "output_type": "execute_result"
    }
   ],
   "source": [
    "response.json().items()"
   ]
  },
  {
   "cell_type": "code",
   "execution_count": 4,
   "metadata": {},
   "outputs": [
    {
     "data": {
      "text/plain": [
       "dict_keys(['full_count', 'version', '1ef1ccdd', '1ef23edf', '1ef2ee2c'])"
      ]
     },
     "execution_count": 4,
     "metadata": {},
     "output_type": "execute_result"
    }
   ],
   "source": [
    "response.json().keys()"
   ]
  }
 ],
 "metadata": {
  "kernelspec": {
   "display_name": "Python 3",
   "language": "python",
   "name": "python3"
  },
  "language_info": {
   "codemirror_mode": {
    "name": "ipython",
    "version": 3
   },
   "file_extension": ".py",
   "mimetype": "text/x-python",
   "name": "python",
   "nbconvert_exporter": "python",
   "pygments_lexer": "ipython3",
   "version": "3.7.1"
  }
 },
 "nbformat": 4,
 "nbformat_minor": 2
}

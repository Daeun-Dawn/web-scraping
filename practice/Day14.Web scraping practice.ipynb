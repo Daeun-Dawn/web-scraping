{
 "cells": [
  {
   "cell_type": "code",
   "execution_count": 94,
   "metadata": {},
   "outputs": [],
   "source": [
    "import requests\n",
    "from bs4 import BeautifulSoup\n",
    "import lxml"
   ]
  },
  {
   "cell_type": "code",
   "execution_count": 116,
   "metadata": {},
   "outputs": [],
   "source": [
    "domain = \"https://stackoverflow.com\"\n",
    "term = \"python\"\n",
    "url = domain + \"/questions/tagged/\" + term\n",
    "response = requests.get(url)\n",
    "html = response.text"
   ]
  },
  {
   "cell_type": "code",
   "execution_count": 120,
   "metadata": {},
   "outputs": [
    {
     "data": {
      "text/plain": [
       "<div class=\"summary\">\n",
       "<h3><a class=\"question-hyperlink\" href=\"/questions/53790207/emacs-auto-fill-mode-how-to-change-line-ending-characters\">Emacs : auto-fill-mode - how to change line ending characters ?</a></h3>\n",
       "<div class=\"excerpt\">\n",
       "            a = \"hello\\\n",
       "world\"\n",
       "\n",
       "In python , the continuation of an expression in another line needs '\\' at the end of the first line. \n",
       "Emacs : Python mode : auto-fill-mode : whenever an expression exceeds 50 ...\n",
       "        </div>\n",
       "<div class=\"tags t-python t-emacs\">\n",
       "<a class=\"post-tag\" href=\"/questions/tagged/python\" rel=\"tag\" title=\"show questions tagged 'python'\">python</a> <a class=\"post-tag\" href=\"/questions/tagged/emacs\" rel=\"tag\" title=\"show questions tagged 'emacs'\">emacs</a>\n",
       "</div>\n",
       "<div class=\"started fr\">\n",
       "<div class=\"user-info \">\n",
       "<div class=\"user-action-time\">\n",
       "        asked <span class=\"relativetime\" title=\"2018-12-15 06:43:13Z\">34 secs ago</span>\n",
       "</div>\n",
       "<div class=\"user-gravatar32\">\n",
       "<a href=\"/users/10591683/dishant-arora\"><div class=\"gravatar-wrapper-32\"><img alt=\"\" height=\"32\" src=\"https://lh5.googleusercontent.com/-ei9VRe7o3Ms/AAAAAAAAAAI/AAAAAAAAAAA/ABtNlbDHfx5KgNuTQgHnZd2yCpR4WANl1A/mo/photo.jpg?sz=32\" width=\"32\"/></div></a>\n",
       "</div>\n",
       "<div class=\"user-details\">\n",
       "<a href=\"/users/10591683/dishant-arora\">Dishant Arora</a>\n",
       "<div class=\"-flair\">\n",
       "<span class=\"reputation-score\" dir=\"ltr\" title=\"reputation score \">9</span><span title=\"1 bronze badge\"><span class=\"badge3\"></span><span class=\"badgecount\">1</span></span>\n",
       "</div>\n",
       "</div>\n",
       "</div>\n",
       "</div>\n",
       "</div>"
      ]
     },
     "execution_count": 120,
     "metadata": {},
     "output_type": "execute_result"
    }
   ],
   "source": [
    "soup = BeautifulSoup(html, \"html.parser\")\n",
    "question_block = soup.find('div', attrs={'id':'questions'})\n",
    "questions = question_block.find_all('div', attrs={'class':'summary'})\n",
    "questions[0]"
   ]
  },
  {
   "cell_type": "code",
   "execution_count": 133,
   "metadata": {},
   "outputs": [
    {
     "name": "stdout",
     "output_type": "stream",
     "text": [
      "Emacs : auto-fill-mode - how to change line ending characters ? https://stackoverflow.com/questions/53790207/emacs-auto-fill-mode-how-to-change-line-ending-characters a = \"hello\\\n",
      "world\"\n",
      "\n",
      "In python , the continuation of an expression in another line needs '\\' at the end of the first line. \n",
      "Emacs : Python mode : auto-fill-mode : whenever an expression exceeds 50 ...\n"
     ]
    }
   ],
   "source": [
    "title_link = questions[0].find('a', attrs={'class':'question-hyperlink'})\n",
    "title = title_link.text\n",
    "link = domain + title_link['href']\n",
    "content = questions[0].find('div', attrs={'class':'excerpt'}).text.strip()\n",
    "print(title, link, content)"
   ]
  },
  {
   "cell_type": "code",
   "execution_count": 136,
   "metadata": {},
   "outputs": [
    {
     "data": {
      "text/plain": [
       "[('Emacs : auto-fill-mode - how to change line ending characters ?',\n",
       "  'https://stackoverflow.com/questions/53790207/emacs-auto-fill-mode-how-to-change-line-ending-characters',\n",
       "  'a = \"hello\\\\\\nworld\"\\n\\nIn python , the continuation of an expression in another line needs \\'\\\\\\' at the end of the first line. \\nEmacs : Python mode : auto-fill-mode : whenever an expression exceeds 50 ...'),\n",
       " ('Scrapy get text spanning multiple lines and within nested elements',\n",
       "  'https://stackoverflow.com/questions/53790206/scrapy-get-text-spanning-multiple-lines-and-within-nested-elements',\n",
       "  \"I'm trying to scrape indeed to get the information of all the job listings in Bangalore.\\n\\nURL : https://www.indeed.co.in/jobs?q=software+developer&l=Bengaluru,+Karnataka&start=0\\n\\nXpath for the ...\"),\n",
       " ('ValueError: While plotting feature importance using matplotlib',\n",
       "  'https://stackoverflow.com/questions/53790180/valueerror-while-plotting-feature-importance-using-matplotlib',\n",
       "  'I have an array \\n\\nlogreg.coef_\\r\\n  array([[ -2.08115860e-01,   3.05150136e-03,   1.43758267e-05]])\\r\\nWhile trying to plot it, I am getting value error:\\n\\npyplot.bar(range(len(logreg.coef_)), logreg.coef_)...'),\n",
       " ('How to get the coordinates of the bottom right corner of the picture？',\n",
       "  'https://stackoverflow.com/questions/53790168/how-to-get-the-coordinates-of-the-bottom-right-corner-of-the-picture',\n",
       "  '[this is a question？use opencv？][1]\\n\\n[1]: https://i.stack.imgur.com/C9Fin.pngstrong text'),\n",
       " ('ImportError: cannot import name libsvm on importing svm',\n",
       "  'https://stackoverflow.com/questions/53790154/importerror-cannot-import-name-libsvm-on-importing-svm',\n",
       "  'I am facing an error when I am trying to import svm: from sklearn import svm\\n\\nImportError: cannot import name libsvm\\n\\nI have tried uninstalling and reinstalling sklearn, but the error still persists. ...'),\n",
       " ('input variable inside of a function output outside of function',\n",
       "  'https://stackoverflow.com/questions/53790140/input-variable-inside-of-a-function-output-outside-of-function',\n",
       "  'I\\'m pretty new to coding and I\\'m making an adventure \"game\" to help me learn. The player has a bit of dialogue to get through and a decision to make, which leads to different choices, two of which ask ...'),\n",
       " ('Have trouble running Python code after convert .ui file to .py file [duplicate]',\n",
       "  'https://stackoverflow.com/questions/53790131/have-trouble-running-python-code-after-convert-ui-file-to-py-file',\n",
       "  \"I recently converted a .ui file to .py file. However, when I try to run it, the program doesn't show correct GUI to me. It just opened up a window with nothing. \\n\\nI converted the file by using command ...\"),\n",
       " (\"classifying data by tensorflow but accuracy value didn't change\",\n",
       "  'https://stackoverflow.com/questions/53790116/classifying-data-by-tensorflow-but-accuracy-value-didnt-change',\n",
       "  \"weight, bias are changed when I check it before start and after finish.\\nloss value is keep decreasing\\n\\nthe problem is accuracy value didn't move ever\\n\\nhere is my code with some cut of it\\n\\nthere is ...\"),\n",
       " ('Pygame mouse click detection on moving sprites',\n",
       "  'https://stackoverflow.com/questions/53790098/pygame-mouse-click-detection-on-moving-sprites',\n",
       "  'I\\'m making a \"duck hunt\" game in pygame. I have everything working, my sprites move and respawn when needed, cursor is a crosshair with sound when clicked etc. The issue I\\'m having is trying to add ...'),\n",
       " ('Trouble implementing a class-based non-binary id3 decision solution',\n",
       "  'https://stackoverflow.com/questions/53790092/trouble-implementing-a-class-based-non-binary-id3-decision-solution',\n",
       "  \"EDIT: I've added my own methods for entropy/inf gain/best split at the bottom in case anybody wants to help me debug so they don't have to write their own!\\n\\nAs a challenge, after watching this video I ...\"),\n",
       " ('How to override attributes in subclass, but maintain methods of super class in python2.7?',\n",
       "  'https://stackoverflow.com/questions/53790075/how-to-override-attributes-in-subclass-but-maintain-methods-of-super-class-in-p',\n",
       "  'I want to inherit an attribute in my subclass, but I want to call a method from the super class.  \\n\\nIn order to inherit the attribute from the parent, however, I need to call super on it.  But when I ...'),\n",
       " ('Is there any way to optimise this code that uses pandas to read a TSV file, do transformations and write to a table using spark?',\n",
       "  'https://stackoverflow.com/questions/53790019/is-there-any-way-to-optimise-this-code-that-uses-pandas-to-read-a-tsv-file-do-t',\n",
       "  \"df_pandas = pd.read_csv('filepath/filename' , delimiter='\\\\t' , encoding = 'utf-8', error_bad_lines=False )\\n\\n    #defining the schema for the spark dataframe\\n    df_schema_file = StructType([...\"),\n",
       " (\"ValueError: Ran into a $end where it wasn't expected - RPLY Parsing\",\n",
       "  'https://stackoverflow.com/questions/53790007/valueerror-ran-into-a-end-where-it-wasnt-expected-rply-parsing',\n",
       "  \"I'm trying to create a parser for a basic interpreted language. \\n\\nWhen I run my program I get the following error: \\n\\nValueError: Ran into a $end where it wasn't expected\\n\\nHere is my main.py:\\n\\nfrom ...\"),\n",
       " ('Build 3D Model from value inputted by GUI with Tkinter',\n",
       "  'https://stackoverflow.com/questions/53789956/build-3d-model-from-value-inputted-by-gui-with-tkinter',\n",
       "  'I built GUI windows to receive the value used for calculating and building a 3D surface.\\n\\nI use Tkinter to create GUI windows. How can I show 3D surfaces in this windows?'),\n",
       " ('In Python if i have a list made up of string and int values, is it possible to get a count on the amount of values in my list?',\n",
       "  'https://stackoverflow.com/questions/53789923/in-python-if-i-have-a-list-made-up-of-string-and-int-values-is-it-possible-to-g',\n",
       "  'I have tried using the len(list) function but it throws me this error:\\nTypeError: can only concatenate str (not \"int\") to str.\\n\\nI realise this is because there is int and string values, but I am ...'),\n",
       " ('sqlite3_config() equivalent in Python',\n",
       "  'https://stackoverflow.com/questions/53789915/sqlite3-config-equivalent-in-python',\n",
       "  'I am facing a weird issue whereconnection.commit() is taking whooping 15 seconds to finish.\\nI need to enable debugging messages of Sqlite3 in Python to find out what is causing this long running ...'),\n",
       " ('PDB Python Debugging - restart from specific function without re-running entire module',\n",
       "  'https://stackoverflow.com/questions/53789883/pdb-python-debugging-restart-from-specific-function-without-re-running-entire',\n",
       "  'I have a 10M row dataset and a 20k row dataset to which I use two pandas apply functions. Even on a subset (1k rows) the first apply function takes a few minutes to run. I want to debug the second ...'),\n",
       " ('Updating Particles In Python3 Using Pyglet',\n",
       "  'https://stackoverflow.com/questions/53789868/updating-particles-in-python3-using-pyglet',\n",
       "  \"I am having a little troubles updating particle positions in my python 3D Game project. I have created a particle class with an update function but when I run the update function the particles' ...\"),\n",
       " ('No Inbound Nodes - Keras CNN Model',\n",
       "  'https://stackoverflow.com/questions/53789858/no-inbound-nodes-keras-cnn-model',\n",
       "  'I had trained a CNN model in keras with the following structure\\n\\nmodel_11 = Sequential()\\n\\n#Convolutional Layers\\nmodel_11.add(Reshape((55, 1)))\\nmodel_11.add(Conv1D(50, kernel_size=5, strides=1, padding=...'),\n",
       " ('After print a global variable, append it to a global list in the for loop. Why the value in each for loop and in the list are not same?',\n",
       "  'https://stackoverflow.com/questions/53789848/after-print-a-global-variable-append-it-to-a-global-list-in-the-for-loop-why-t',\n",
       "  \"transactions_clean = \\\\\\n['Edith Mcbride', '$1.21', 'white', '09/15/17', 'Herbert Tran', \\n'$7.29', 'white&blue', \\n'09/15/17', 'Paul Clarke', '$12.52', 'white&blue', '09/15/17', 'Lucille \\n...\"),\n",
       " ('QFileDialog sort by date actually uses alphabetical order of date',\n",
       "  'https://stackoverflow.com/questions/53789779/qfiledialog-sort-by-date-actually-uses-alphabetical-order-of-date',\n",
       "  \"In PyQt 5.11.2 (on Windows 10), QFileDialog with the DontUseNativeDialog option set has a bug when sorting by the 'Date Modified' column: it does not sort by the actual date - it sorts alphabetically ...\"),\n",
       " ('Python - How to prevent variables from being lost during loop?',\n",
       "  'https://stackoverflow.com/questions/53789778/python-how-to-prevent-variables-from-being-lost-during-loop',\n",
       "  \"I'm currently three days in learning Python; Here's a pretty basic program from the book 'Automate the Boring Stuff with Python - Practical Programming for Total Beginners from Al Sweigarts', with ...\"),\n",
       " ('$.getJSON on works once on HTA file',\n",
       "  'https://stackoverflow.com/questions/53789763/getjson-on-works-once-on-hta-file',\n",
       "  'been having issues with my .HTA file. Everything works fine until i attempt to make a second request to $.getJSON.\\n\\n###The request only works once, then stops working on additional button \\nclicks. \\n###...'),\n",
       " ('What is happening when performing a logical AND between two numpy arrays?',\n",
       "  'https://stackoverflow.com/questions/53789748/what-is-happening-when-performing-a-logical-and-between-two-numpy-arrays',\n",
       "  'Suppose I had the example\\n\\na = np.arange(6)\\r\\nWhat is happening between the following operation, and how is the output produced?\\n\\nnp.where(a > 4) and np.where(a > 2)'),\n",
       " ('How to print two vertical lists next to each other',\n",
       "  'https://stackoverflow.com/questions/53789739/how-to-print-two-vertical-lists-next-to-each-other',\n",
       "  \"I am trying to code a game of connect 4. If you don't know the rules, look it up, it's a relatively straightforward game. I have made each row into a list. However, it prints each row below the other. ...\"),\n",
       " ('How to make python replace a specific answer to something',\n",
       "  'https://stackoverflow.com/questions/53789726/how-to-make-python-replace-a-specific-answer-to-something',\n",
       "  'I\\'m Having some trouble coding python. I\\'m trying to make python replace an answer if it is \"main()\", but all I see when I run it is\\n\\nFile \"G:\\\\PythonSoftware\\\\Kaelan\\'sPythonExperiments\\\\stuff.py\", line ...'),\n",
       " ('Transform pandas DataFrame from wide to long and count occurences of a unique value',\n",
       "  'https://stackoverflow.com/questions/53789715/transform-pandas-dataframe-from-wide-to-long-and-count-occurences-of-a-unique-va',\n",
       "  'Hello dear community i have a pretty specific problem that i sadly can not work my mind around. The DataFrame I want to transform currently looks like this.\\n\\ndf_larceny\\nCATEGORY    INCIDENTYEAR    ...'),\n",
       " ('I am constantly getting an error from bidirectional rnn',\n",
       "  'https://stackoverflow.com/questions/53789713/i-am-constantly-getting-an-error-from-bidirectional-rnn',\n",
       "  'I am preparing a chatbot based on a udemy course. I am getting this error very constantly. anybody can help me?\\n\\nValueError: Tensor(\"bidirectional_rnn/fw/fw/Const:0\", shape=(1,), dtype=int32) must be ...'),\n",
       " ('Transporting data to create a new data frame to re-structure the data frame',\n",
       "  'https://stackoverflow.com/questions/53789707/transporting-data-to-create-a-new-data-frame-to-re-structure-the-data-frame',\n",
       "  'I have a csv file that contains data along the rows.\\nI want to create a data frame by transporting all rows to columns.I have provided the following sample data frame that replicates the data in csv.\\n\\n...'),\n",
       " ('How to format datetime in python [duplicate]',\n",
       "  'https://stackoverflow.com/questions/53789699/how-to-format-datetime-in-python',\n",
       "  \"How could I format this output date & time \\n\\nOutput = ('2017-07-31T12:35:00')\\r\\nTo be equal to this\\n\\nOutput = ('12:35PM')\\r\\nThanks! The T in the middle is what throws me off..\"),\n",
       " ('python search dictionary values and print',\n",
       "  'https://stackoverflow.com/questions/53789696/python-search-dictionary-values-and-print',\n",
       "  \"dictionary = {'Name':['Sam','Rafael','Albert','Prapul','Zorg','Peter','Sandy','Kristena','Noah','William','Alexander'],\\n              'Number':[9842657266,2548759249,5859715540,9874515875,8974511147,...\"),\n",
       " ('parallel execution of python function',\n",
       "  'https://stackoverflow.com/questions/53789633/parallel-execution-of-python-function',\n",
       "  'My requirement is after giving control to \"thread_func\", while loop should continue without wait for completion of \"thread_func\".\\n\\nPlease suggest me how to approach? \\n\\ndef thread_func(mySeries):\\n    ...'),\n",
       " ('How to retrive data from FormsDict using python bottle?',\n",
       "  'https://stackoverflow.com/questions/53789612/how-to-retrive-data-from-formsdict-using-python-bottle',\n",
       "  \"I'm unable to print result. This works fine on flask if i use, result= request.form and then print(result). This prints a dictionary on flask. But doesn't work using bottle. When i used type(result) ...\"),\n",
       " ('FTPLIB error socket.gaierror: [Errno 8] nodename nor servname provided, or not known',\n",
       "  'https://stackoverflow.com/questions/53789605/ftplib-error-socket-gaierror-errno-8-nodename-nor-servname-provided-or-not-k',\n",
       "  \"I'm trying to download a file from an FTP server using FTPlib but i keep getting the error below. I tried several methods found on SO namely editing the etc/host file and adding the computer name ...\"),\n",
       " ('TensorFlow Importing Error: DLL load failed with error code -1073741795',\n",
       "  'https://stackoverflow.com/questions/53789599/tensorflow-importing-error-dll-load-failed-with-error-code-1073741795',\n",
       "  'I am using Python 3.6.2 (64 bit). Installed Tensorflow with no issues. But now when I try to import it. I get the following error as shown below. Looked at the suggested link (https://www.tensorflow....'),\n",
       " ('Keras, tensorflow importing error in sublime text and spyder but working in command line',\n",
       "  'https://stackoverflow.com/questions/53789589/keras-tensorflow-importing-error-in-sublime-text-and-spyder-but-working-in-comm',\n",
       "  'In command-line, everything seems fine. But when I am importing tensorflow in sublime text or spyder it gives the following error -\\n\\nimport tensorflow as tf\\r\\n  Traceback (most recent call last):\\n    ...'),\n",
       " ('Issues with ROS',\n",
       "  'https://stackoverflow.com/questions/53789575/issues-with-ros',\n",
       "  'My friends and I are building an autonomous plane (UAV) and are interested in using ROS for our software stack. However, I had a few problems with ROS and support, and am wondering if anyone knew any ...'),\n",
       " ('Python, why this code works? I want to know the internal logic',\n",
       "  'https://stackoverflow.com/questions/53789562/python-why-this-code-works-i-want-to-know-the-internal-logic',\n",
       "  \"8.5 Open the file mbox-short.txt and read it line by line. When you find a line that starts with 'From ' like the following line:\\nFrom stephen.marquard@uct.ac.za Sat Jan  5 09:14:16 2008\\nYou will ...\"),\n",
       " ('Overflow when approximating activation functions in neural network',\n",
       "  'https://stackoverflow.com/questions/53789548/overflow-when-approximating-activation-functions-in-neural-network',\n",
       "  \"I am facing an issue for several days and I haven't found a solution yet. For cryptographic purposes (Homomorphic Encryption to be precise), I need to use polynomial approximations of the activation ...\"),\n",
       " ('Modifying Python Script to process all files in directory',\n",
       "  'https://stackoverflow.com/questions/53789534/modifying-python-script-to-process-all-files-in-directory',\n",
       "  \"I have finalized part 1 of some scripting that produces the output I'd like. Many thanks to the SO community and Google.\\n\\nHere is my code:\\n\\nimport pandas as pd\\nfiles = ('filename_20181006.txt')\\ndf = ...\"),\n",
       " ('Need to quickly update Django model with difference between two other models',\n",
       "  'https://stackoverflow.com/questions/53789518/need-to-quickly-update-django-model-with-difference-between-two-other-models',\n",
       "  \"I'm populating my database from an API that provides year-to-date stats, and I'll be pulling from this API multiple times a day. Using the year-to-date stats, I need to generate monthly and weekly ...\"),\n",
       " ('Getting an errror in my code that deals with classes',\n",
       "  'https://stackoverflow.com/questions/53789511/getting-an-errror-in-my-code-that-deals-with-classes',\n",
       "  'Traceback (most recent call last):\\n  File \"<pyshell#222>\", line 1, in <module>\\n    TextFacebook.viewStatus()\\n  File \"C:\\\\Users\\\\tanne\\\\OneDrive\\\\Desktop\\\\Facebook.py\", line 37, in viewStatus\\n   ...'),\n",
       " ('Change string variable from function in imported module',\n",
       "  'https://stackoverflow.com/questions/53789503/change-string-variable-from-function-in-imported-module',\n",
       "  'I am making a python Tkinter GUI that will transcribe audio from microphone to text in real time and at the same time, show a warning message on screen if the word \"oh no\" or \"erm\" is spoken and ...'),\n",
       " (\"Why can't I predict new data using SVM and KNN?\",\n",
       "  'https://stackoverflow.com/questions/53789501/why-cant-i-predict-new-data-using-svm-and-knn',\n",
       "  \"I'm new to machine learning and I just learned KNN and SVM with sklearn. How do I make a prediction for new data using SVM or KNN? I have tried both to make prediction. They make good prediction only ...\"),\n",
       " ('What is the error in my code for advent of code day 14 part 2?',\n",
       "  'https://stackoverflow.com/questions/53789498/what-is-the-error-in-my-code-for-advent-of-code-day-14-part-2',\n",
       "  'I am learning how to code in python so I am taking the challenge of doing advent of code, so I have an error in day 14 part 2 where it is saying Memory Error,  I have to find the answer for 846601, to ...'),\n",
       " ('Question with python, music and events, is there a more elegant way of programming this?',\n",
       "  'https://stackoverflow.com/questions/53789477/question-with-python-music-and-events-is-there-a-more-elegant-way-of-programmi',\n",
       "  \"Goal: To create a program that will be able to turn off and on lights to music based on events that are triggered from midi notes.\\n\\nHello all, I am hoping that this isn't too broad of a question to ...\"),\n",
       " (\"Why doesn't this collision detection apply to objects previously created?\",\n",
       "  'https://stackoverflow.com/questions/53789453/why-doesnt-this-collision-detection-apply-to-objects-previously-created',\n",
       "  \"After hours of searching, I still can't figure out why only the most recently spawned circle is affected by the collision detection. I commented out the code in question. I experimented with sprites ...\"),\n",
       " ('get nested python dict key and values and place in a list',\n",
       "  'https://stackoverflow.com/questions/53789446/get-nested-python-dict-key-and-values-and-place-in-a-list',\n",
       "  'how can I loop this nested python dictionary and build a list for all the values for aggregate, S1, S2, S3, and S4. A couple things to note aggregate will always exist in all these various keys but ...'),\n",
       " ('Cant connect to wss withour verifying ssl cert',\n",
       "  'https://stackoverflow.com/questions/53789437/cant-connect-to-wss-withour-verifying-ssl-cert',\n",
       "  'Im trying some weeks now to connect to a websocket that has bad ssl cert and i cant figure out how to connect with tornado.websocket.websocket_connect() without verifying the cert. Any help?\\ni have ...'),\n",
       " ('not able to read a saved machine learning model in flask on a remote Ubuntu server',\n",
       "  'https://stackoverflow.com/questions/53789388/not-able-to-read-a-saved-machine-learning-model-in-flask-on-a-remote-ubuntu-serv',\n",
       "  \"I have saved a Machine Learning model as 'finalized_model.sav' which I am using on a flask app. When I am running the below lines of code on my local desktop, it is running perfectly but running the ...\")]"
      ]
     },
     "execution_count": 136,
     "metadata": {},
     "output_type": "execute_result"
    }
   ],
   "source": [
    "stack_question_list = []\n",
    "\n",
    "for question in questions:\n",
    "    title_link = question.find('a', attrs={'class':'question-hyperlink'})\n",
    "    title = title_link.text\n",
    "    link = domain + title_link['href']\n",
    "    content = question.find('div', attrs={'class':'excerpt'}).text.strip(' \\r\\n')\n",
    "    \n",
    "    stack_question_list.append((title, link, content))\n",
    "\n",
    "stack_question_list"
   ]
  },
  {
   "cell_type": "code",
   "execution_count": null,
   "metadata": {},
   "outputs": [],
   "source": []
  },
  {
   "cell_type": "code",
   "execution_count": null,
   "metadata": {},
   "outputs": [],
   "source": []
  },
  {
   "cell_type": "code",
   "execution_count": null,
   "metadata": {},
   "outputs": [],
   "source": []
  },
  {
   "cell_type": "code",
   "execution_count": null,
   "metadata": {},
   "outputs": [],
   "source": []
  },
  {
   "cell_type": "code",
   "execution_count": null,
   "metadata": {},
   "outputs": [],
   "source": []
  },
  {
   "cell_type": "code",
   "execution_count": null,
   "metadata": {},
   "outputs": [],
   "source": []
  },
  {
   "cell_type": "code",
   "execution_count": null,
   "metadata": {},
   "outputs": [],
   "source": []
  },
  {
   "cell_type": "code",
   "execution_count": null,
   "metadata": {},
   "outputs": [],
   "source": []
  },
  {
   "cell_type": "code",
   "execution_count": null,
   "metadata": {},
   "outputs": [],
   "source": []
  },
  {
   "cell_type": "code",
   "execution_count": null,
   "metadata": {},
   "outputs": [],
   "source": []
  },
  {
   "cell_type": "code",
   "execution_count": null,
   "metadata": {},
   "outputs": [],
   "source": []
  },
  {
   "cell_type": "code",
   "execution_count": null,
   "metadata": {},
   "outputs": [],
   "source": []
  },
  {
   "cell_type": "code",
   "execution_count": null,
   "metadata": {},
   "outputs": [],
   "source": []
  },
  {
   "cell_type": "code",
   "execution_count": null,
   "metadata": {},
   "outputs": [],
   "source": []
  },
  {
   "cell_type": "code",
   "execution_count": null,
   "metadata": {},
   "outputs": [],
   "source": []
  },
  {
   "cell_type": "code",
   "execution_count": null,
   "metadata": {},
   "outputs": [],
   "source": []
  },
  {
   "cell_type": "code",
   "execution_count": null,
   "metadata": {},
   "outputs": [],
   "source": []
  },
  {
   "cell_type": "code",
   "execution_count": null,
   "metadata": {},
   "outputs": [],
   "source": []
  },
  {
   "cell_type": "code",
   "execution_count": null,
   "metadata": {},
   "outputs": [],
   "source": []
  },
  {
   "cell_type": "code",
   "execution_count": null,
   "metadata": {},
   "outputs": [],
   "source": []
  },
  {
   "cell_type": "code",
   "execution_count": null,
   "metadata": {},
   "outputs": [],
   "source": []
  }
 ],
 "metadata": {
  "kernelspec": {
   "display_name": "Python 3",
   "language": "python",
   "name": "python3"
  },
  "language_info": {
   "codemirror_mode": {
    "name": "ipython",
    "version": 3
   },
   "file_extension": ".py",
   "mimetype": "text/x-python",
   "name": "python",
   "nbconvert_exporter": "python",
   "pygments_lexer": "ipython3",
   "version": "3.7.1"
  }
 },
 "nbformat": 4,
 "nbformat_minor": 2
}

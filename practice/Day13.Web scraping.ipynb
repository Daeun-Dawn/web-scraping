{
 "cells": [
  {
   "cell_type": "code",
   "execution_count": 28,
   "metadata": {},
   "outputs": [],
   "source": [
    "import requests\n",
    "from bs4 import BeautifulSoup"
   ]
  },
  {
   "cell_type": "code",
   "execution_count": 37,
   "metadata": {},
   "outputs": [
    {
     "data": {
      "text/plain": [
       "'<!DOCTYPE html>\\n<html lang=\"en\"\\n      dit=\"ltr\"\\n      xmlns:fb=\"http://www.facebook.com/2008/fbml\"\\n '"
      ]
     },
     "execution_count": 37,
     "metadata": {},
     "output_type": "execute_result"
    }
   ],
   "source": [
    "url = \"https://www.rottentomatoes.com\"\n",
    "response = requests.get(url)\n",
    "html = response.text\n",
    "html[:100]"
   ]
  },
  {
   "cell_type": "code",
   "execution_count": 35,
   "metadata": {},
   "outputs": [
    {
     "data": {
      "text/plain": [
       "<tr class=\"\">\n",
       "<td class=\"left_col\">\n",
       "<a href=\"/m/ralph_breaks_the_internet\">\n",
       "<span class=\"icon tiny certified_fresh\"></span>\n",
       "<span class=\"tMeterScore\">88%</span>\n",
       "</a>\n",
       "</td>\n",
       "<td class=\"middle_col\">\n",
       "<a href=\"/m/ralph_breaks_the_internet\">Ralph Breaks the Internet</a>\n",
       "</td>\n",
       "<td class=\"right_col right\">\n",
       "<a href=\"/m/ralph_breaks_the_internet\">$16.4M</a>\n",
       "</td>\n",
       "</tr>"
      ]
     },
     "execution_count": 35,
     "metadata": {},
     "output_type": "execute_result"
    }
   ],
   "source": [
    "soup = BeautifulSoup(html, 'html.parser')\n",
    "# BeautifulSoup 으로 'Top Box Office 접근하기'\n",
    "div = soup.find('div', attrs={'id':\"homepage-top-box-office\"})\n",
    "tr_list = div.find_all('tr')\n",
    "tr_list[0]"
   ]
  },
  {
   "cell_type": "code",
   "execution_count": 38,
   "metadata": {},
   "outputs": [
    {
     "data": {
      "text/plain": [
       "[('88%',\n",
       "  'Ralph Breaks the Internet',\n",
       "  '$16.4M',\n",
       "  'https://www.rottentomatoes.com/m/ralph_breaks_the_internet'),\n",
       " ('57%',\n",
       "  'The Grinch',\n",
       "  '$15.1M',\n",
       "  'https://www.rottentomatoes.com/m/the_grinch'),\n",
       " ('83%', 'Creed II', '$10.1M', 'https://www.rottentomatoes.com/m/creed_ii'),\n",
       " ('38%',\n",
       "  'Fantastic Beasts: The Crimes of Grindelwald',\n",
       "  '$7M',\n",
       "  'https://www.rottentomatoes.com/m/fantastic_beasts_the_crimes_of_grindelwald'),\n",
       " ('62%',\n",
       "  'Bohemian Rhapsody',\n",
       "  '$6.2M',\n",
       "  'https://www.rottentomatoes.com/m/bohemian_rhapsody'),\n",
       " ('81%',\n",
       "  'Instant Family',\n",
       "  '$5.8M',\n",
       "  'https://www.rottentomatoes.com/m/instant_family'),\n",
       " ('82%', 'Green Book', '$4M', 'https://www.rottentomatoes.com/m/green_book'),\n",
       " ('16%',\n",
       "  'Robin Hood',\n",
       "  '$3.5M',\n",
       "  'https://www.rottentomatoes.com/m/robin_hood_2018'),\n",
       " ('14%',\n",
       "  'The Possession of Hannah Grace',\n",
       "  '$3.3M',\n",
       "  'https://www.rottentomatoes.com/m/the_possession_of_hannah_grace'),\n",
       " ('91%', 'Widows', '$3.1M', 'https://www.rottentomatoes.com/m/widows_2018')]"
      ]
     },
     "execution_count": 38,
     "metadata": {},
     "output_type": "execute_result"
    }
   ],
   "source": [
    "# 결과 담기\n",
    "results = []\n",
    "for i in range(len(tr_list)):\n",
    "    meter_score = tr_list[i].find('span', attrs={'class':\"tMeterScore\"}).text.strip()\n",
    "    meter_text = tr_list[i].find('td', attrs={'class':\"middle_col\"}).text.strip()\n",
    "    meter_revenue = tr_list[i].find('td', attrs={'class':\"right_col right\"}).text.strip()\n",
    "    meter_href = url + tr_list[i].find('a').attrs['href']\n",
    "    results.append((meter_score, meter_text, meter_revenue, meter_href))\n",
    "\n",
    "results"
   ]
  },
  {
   "cell_type": "code",
   "execution_count": null,
   "metadata": {},
   "outputs": [],
   "source": []
  },
  {
   "cell_type": "code",
   "execution_count": null,
   "metadata": {},
   "outputs": [],
   "source": []
  },
  {
   "cell_type": "code",
   "execution_count": null,
   "metadata": {},
   "outputs": [],
   "source": []
  },
  {
   "cell_type": "code",
   "execution_count": null,
   "metadata": {},
   "outputs": [],
   "source": []
  },
  {
   "cell_type": "code",
   "execution_count": null,
   "metadata": {},
   "outputs": [],
   "source": []
  },
  {
   "cell_type": "code",
   "execution_count": null,
   "metadata": {},
   "outputs": [],
   "source": []
  }
 ],
 "metadata": {
  "kernelspec": {
   "display_name": "Python 3",
   "language": "python",
   "name": "python3"
  },
  "language_info": {
   "codemirror_mode": {
    "name": "ipython",
    "version": 3
   },
   "file_extension": ".py",
   "mimetype": "text/x-python",
   "name": "python",
   "nbconvert_exporter": "python",
   "pygments_lexer": "ipython3",
   "version": "3.7.1"
  }
 },
 "nbformat": 4,
 "nbformat_minor": 2
}
